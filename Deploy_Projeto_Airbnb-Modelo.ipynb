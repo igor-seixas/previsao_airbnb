{
 "cells": [
  {
   "cell_type": "code",
   "execution_count": null,
   "metadata": {
    "scrolled": true
   },
   "outputs": [],
   "source": [
    "import pandas as pd\n",
    "import streamlit as st\n",
    "import joblib"
   ]
  },
  {
   "cell_type": "code",
   "execution_count": null,
   "metadata": {},
   "outputs": [],
   "source": [
    "#modelo = joblib.load('modelo.joblib')"
   ]
  },
  {
   "cell_type": "markdown",
   "metadata": {},
   "source": [
    "Com isso eu consigo usar o modelo criado em um arquivo python em outro arquivo python."
   ]
  },
  {
   "cell_type": "markdown",
   "metadata": {},
   "source": [
    "Primeiro vamos pegar todas as informações que o modelo precisa para rodar. Essas informações são justamente as colunas que restaram no modelo de previsão.\n"
   ]
  },
  {
   "cell_type": "markdown",
   "metadata": {},
   "source": [
    "Agora vamos separar em dicionários as que são preenchidas com números, as que são preenchidas com SIM ou NÃO (V ou F) e as que são preenchidas com um tipo fixo de infomação (exemplo: Apartamento/Casa)"
   ]
  },
  {
   "cell_type": "code",
   "execution_count": null,
   "metadata": {
    "scrolled": false
   },
   "outputs": [],
   "source": [
    "x_numeros = {'host_total_listings_count': 0 , 'latitude': 0,\n",
    "            'longitude': 0, 'accommodates': 0, 'bathrooms': 0, \n",
    "             'bedrooms': 0, 'beds': 0, 'Amenindades': 0,\n",
    "            }\n",
    "\n",
    "x_true_false = {'host_is_superhost': 0, 'instant_bookable': 0}\n",
    "\n",
    "x_lista = {'property_type': ['Apartment', 'Bed and breakfast', 'Condominium', 'Guest suite',\n",
    "                            'House', 'Loft', 'Townhouse', 'Outros'], \n",
    "          'room_type': ['Entire home/apt', 'Hotel room', 'Private room', 'Shared room'],\n",
    "           'bed_type': ['Airbed', 'Couch', 'Futon', 'Pull-out Sofa', 'Real Bed'],\n",
    "           'cancellation_policy': ['flexible', 'moderate', 'strict_14_with_grace_period', 'super_strict']\n",
    "          }\n",
    "\n",
    "dicionario = {}\n",
    "\n",
    "for item in x_lista:\n",
    "    for valor in x_lista[item]:\n",
    "        dicionario[f'{item}_{valor}'] = 0\n",
    "        \n",
    "print(dicionario)"
   ]
  },
  {
   "cell_type": "code",
   "execution_count": null,
   "metadata": {},
   "outputs": [],
   "source": [
    "print(len(dicionario))"
   ]
  },
  {
   "cell_type": "markdown",
   "metadata": {},
   "source": [
    "-Criando os botões do Web App:"
   ]
  },
  {
   "cell_type": "code",
   "execution_count": null,
   "metadata": {},
   "outputs": [],
   "source": [
    "for item in x_numeros:\n",
    "    if item == 'latitude' or item == 'longitude':\n",
    "        valor = st.number_input(f'{item}', step=0.00001, value=0.0, format='%.5f')\n",
    "    else:\n",
    "        valor = st.number_input(f'{item}', step=1, value=0)\n",
    "    x_numeros[item] = valor\n",
    "    \n",
    "for item in x_true_false:\n",
    "    valor = st.selectbox(f'{item}', ('Sim', 'Não'))\n",
    "    if valor == 'Sim':\n",
    "        x_true_false[item] = 1\n",
    "    else:\n",
    "        x_true_false[item] = 0\n",
    "\n",
    "    \n",
    "for item in x_lista:\n",
    "    valor = st.selectbox(f'{item}', x_lista[item])\n",
    "    dicionario[f'{item}_{valor}'] = 1\n",
    "    \n",
    "    \n",
    "botao = st.button('Prever valor do imóvel')\n",
    "\n",
    "if botao:\n",
    "    dicionario.update(x_numeros)\n",
    "    dicionario.update(x_true_false)\n",
    "    valores_x = pd.DataFrame(dicionario, index=[0])\n",
    "    modelo = joblib.load('modelo.joblib')\n",
    "    preco = modelo.predict(valores_x)\n",
    "    st.write(f'O valor previsto para o imóvel é de US$ {preco[0]}.')\n",
    "    "
   ]
  }
 ],
 "metadata": {
  "kernelspec": {
   "display_name": "Python 3",
   "language": "python",
   "name": "python3"
  },
  "language_info": {
   "codemirror_mode": {
    "name": "ipython",
    "version": 3
   },
   "file_extension": ".py",
   "mimetype": "text/x-python",
   "name": "python",
   "nbconvert_exporter": "python",
   "pygments_lexer": "ipython3",
   "version": "3.8.5"
  }
 },
 "nbformat": 4,
 "nbformat_minor": 4
}
